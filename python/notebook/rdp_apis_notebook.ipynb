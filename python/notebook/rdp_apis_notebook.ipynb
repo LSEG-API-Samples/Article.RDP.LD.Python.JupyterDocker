{
 "cells": [
  {
   "cell_type": "markdown",
   "id": "af5a68f0-0bc7-4952-aade-75fa98eaa616",
   "metadata": {
    "tags": []
   },
   "source": [
    "# How to get Environmental, Social, and Governance data from Refinitiv Data Platform APIs with jupyter/scipy-notebook Docker image.\n",
    "\n",
    "The [jupyter/scipy-notebook](https://jupyter-docker-stacks.readthedocs.io/en/latest/using/selecting.html#jupyter-scipy-notebook) image provides ready-to-use Jupyter Notebook/JupyterLab application with the [conda](https://github.com/conda/conda)/[mamba](https://github.com/mamba-org/mamba) , [ipywidgets](https://ipywidgets.readthedocs.io/en/stable/) and popular packages from the scientific Python ecosystem ([Pandas](https://pandas.pydata.org/), [Matplotlib](https://matplotlib.org/), [Seaborn](https://seaborn.pydata.org/), [Requests](https://docs.python-requests.org/en/master/), etc.) for developers.\n",
    "\n",
    "Developers can start the Jupyter server and access the notebook with the following Docker command:\n",
    "\n",
    "```\n",
    "docker run -p 8888:8888 --name notebook -v <project /python/notebook/ directory>:/home/jovyan/work -e JUPYTER_ENABLE_LAB=yes --env-file .env jupyter/scipy-notebook:70178b8e48d7\n",
    "```\n",
    "The above command set the following container's options:\n",
    "- ```-p 8888:8888```: Exposes the server on host port 8888\n",
    "- ```-v <your working directory>:/home/jovyan/work```: Mounts the working directory on the host as /home/jovyan/work folder in the container to save the files between your host machine and a container.\n",
    "- ```-e JUPYTER_ENABLE_LAB=yes```: Run JupyterLab instead of the default classic Jupyter Notebook.\n",
    "- ```--name notebook```: Define a container name as *notebook*\n",
    "\n",
    "*Note*:\n",
    "- Docker destroys the container after the notebook server exit, so you always need the ```-v``` option.\n",
    "- The default notebook username of a container is always **jovyan** (but you can change it to something else).\n",
    "\n",
    "## <a id=\"whatis_rdp\"></a>What is Refinitiv Data Platform (RDP) APIs?\n",
    "\n",
    "The [Refinitiv Data Platform (RDP) APIs](https://developers.refinitiv.com/en/api-catalog/refinitiv-data-platform/refinitiv-data-platform-apis) provide various Refinitiv data and content for developers via easy-to-use Web-based API.\n",
    "\n",
    "RDP APIs give developers seamless and holistic access to all of the Refinitiv content such as Historical Pricing, Environmental Social and Governance (ESG), News, Research, etc and commingled with their content, enriching, integrating, and distributing the data through a single interface, delivered wherever they need it.  The RDP APIs delivery mechanisms are the following:\n",
    "* Request - Response: RESTful web service (HTTP GET, POST, PUT or DELETE) \n",
    "* Alert: delivery is a mechanism to receive asynchronous updates (alerts) to a subscription. \n",
    "* Bulks:  deliver substantial payloads, like the end-of-day pricing data for the whole venue. \n",
    "* Streaming: deliver real-time delivery of messages.\n",
    "\n",
    "This example project is focusing on the Request-Response: RESTful web service delivery method only.  \n",
    "\n",
    "For more detail regarding Refinitiv Data Platform, please see the following APIs resources: \n",
    "- [Quick Start](https://developers.refinitiv.com/en/api-catalog/refinitiv-data-platform/refinitiv-data-platform-apis/quick-start) page.\n",
    "- [Tutorials](https://developers.refinitiv.com/en/api-catalog/refinitiv-data-platform/refinitiv-data-platform-apis/tutorials) page.\n",
    "- [RDP APIs: Introduction to the Request-Response API](https://developers.refinitiv.com/en/api-catalog/refinitiv-data-platform/refinitiv-data-platform-apis/tutorials#introduction-to-the-request-response-api) page.\n",
    "- [RDP APIs: Authorization - All about tokens](https://developers.refinitiv.com/en/api-catalog/refinitiv-data-platform/refinitiv-data-platform-apis/tutorials#authorization-all-about-tokens) page."
   ]
  },
  {
   "cell_type": "markdown",
   "id": "8565f0be-714e-47af-97ff-e03dab9a77ac",
   "metadata": {},
   "source": [
    "## Importing Libraries\n",
    "\n",
    "The first step is importing all required libraries including the python-dotenv, requests, Pandas, etc. The *jupyter/scipy-notebook* image has all the required libraries for you."
   ]
  },
  {
   "cell_type": "code",
   "execution_count": 1,
   "id": "808deb01-a22c-49cf-88f7-f616bbaeb6fe",
   "metadata": {},
   "outputs": [],
   "source": [
    "import os\n",
    "import requests\n",
    "import pandas as pd\n",
    "import numpy as np"
   ]
  },
  {
   "cell_type": "markdown",
   "id": "985e7c1e-17fc-4f3a-a087-a9b917c799ab",
   "metadata": {},
   "source": [
    "Next, the notebook application uses ```os.getenv``` statement to get RDP APIs Auth service endpoint and user's RDP credentials configurations from find ```.env``` which you have passed to a container with ```--env-file .env``` option."
   ]
  },
  {
   "cell_type": "code",
   "execution_count": 2,
   "id": "bc2a438b-c643-434d-9723-84597e6023d6",
   "metadata": {},
   "outputs": [],
   "source": [
    "# Get RDP Token service information from Environment Variables\n",
    "base_URL = os.getenv('RDP_BASE_URL')\n",
    "auth_endpoint = base_URL + os.getenv('RDP_AUTH_URL') \n",
    "\n",
    "# Get RDP Credentials information from Environment Variables\n",
    "username = os.getenv('RDP_USER')\n",
    "password = os.getenv('RDP_PASSWORD')\n",
    "app_key = os.getenv('RDP_APP_KEY')"
   ]
  },
  {
   "cell_type": "markdown",
   "id": "bb49f036-d490-4ae4-b656-a65a4241bfd2",
   "metadata": {},
   "source": [
    "Refinitiv Data Platform entitlement check is based on OAuth 2.0 specification. The first step of an application workflow is to get a token from RDP Auth Service, which will allow access to the protected resource, i.e. data REST APIs. \n",
    "\n",
    "We create the RDP Auth Service request message with additional variables in the next step."
   ]
  },
  {
   "cell_type": "code",
   "execution_count": 3,
   "id": "7af44c46-47ed-42eb-a80d-2ff748da24fa",
   "metadata": {},
   "outputs": [],
   "source": [
    "# RDP Auth Services request message variables\n",
    "\n",
    "client_secret = ''\n",
    "scope = 'trapi'\n",
    "auth_obj = None\n",
    "\n",
    "# -- Init and Authenticate Session\n",
    "auth_request_msg = {\n",
    "    'username': username ,\n",
    "    'password': password ,\n",
    "    'grant_type': \"password\",\n",
    "    'scope': scope,\n",
    "    'takeExclusiveSignOnControl': \"true\"\n",
    "}"
   ]
  },
  {
   "cell_type": "markdown",
   "id": "acbc162b-5941-4ae4-8928-9b9352e8e855",
   "metadata": {},
   "source": [
    "Now notebook is ready to send the HTTP request message with the *requests* library. \n",
    "\n",
    "It keeps the response JSON message which contains the RDP Access Token information in the *auth_obj* variable."
   ]
  },
  {
   "cell_type": "code",
   "execution_count": 4,
   "id": "2df697ef-cde7-45d8-a792-5a8dba550083",
   "metadata": {},
   "outputs": [
    {
     "name": "stdout",
     "output_type": "stream",
     "text": [
      "Authentication success\n"
     ]
    }
   ],
   "source": [
    "# Authentication with RDP Auth Service\n",
    "try:\n",
    "    response = requests.post(auth_endpoint, headers = {'Accept':'application/json'}, data = auth_request_msg, auth = (app_key, client_secret))\n",
    "except Exception as exp:\n",
    "    print('Caught exception: %s' % str(exp))\n",
    "\n",
    "if response.status_code == 200:  # HTTP Status 'OK'\n",
    "    print('Authentication success')\n",
    "    auth_obj = response.json() \n",
    "else:\n",
    "    print('RDP authentication result failure: %s %s' % (response.status_code, response.reason))\n",
    "    print('Text: %s' % (response.text))"
   ]
  },
  {
   "cell_type": "markdown",
   "id": "278a559c-ac81-49f5-adac-ae3e3266679d",
   "metadata": {},
   "source": [
    "After the application received the Access Token (an authorization token) from RDP Auth Service, all subsequent REST API calls will use this token to get the data. The application needs to input Access Token via *Authorization* HTTP request message header as shown below. \n",
    "- Header: \n",
    "    * Authorization = ```Bearer <RDP Access Token>```\n",
    "\n",
    "Please notice *the space* between the ```Bearer``` and ```RDP Access Token``` values.\n",
    "\n",
    "The next step is requesting ESG (Environmental, Social, and Governance) data from RDP. We use the ESG scores-full API endpoint which provides full coverage of Refinitiv's proprietary ESG Scores with full history for consumers as an example API.\n",
    "\n",
    "We get the RDP ESG Service API endpoint from a ```.env``` file."
   ]
  },
  {
   "cell_type": "code",
   "execution_count": 5,
   "id": "d46be588-0e0d-466b-8e7c-eb8a77e9e9c9",
   "metadata": {},
   "outputs": [],
   "source": [
    "# Get RDP Token service information from Environment Variables\n",
    "esg_url = base_URL + os.getenv('RDP_ESG_URL') "
   ]
  },
  {
   "cell_type": "code",
   "execution_count": 6,
   "id": "71f116a3-704d-458a-b138-5d224f345f6e",
   "metadata": {},
   "outputs": [],
   "source": [
    "# ESG Score Full request messages variables\n",
    "\n",
    "universe = 'TSLA.O'\n",
    "payload = {'universe': universe}\n",
    "esg_object = None"
   ]
  },
  {
   "cell_type": "code",
   "execution_count": 7,
   "id": "09888f79-dba7-45cc-abc0-0d3214f5c3f5",
   "metadata": {},
   "outputs": [
    {
     "name": "stdout",
     "output_type": "stream",
     "text": [
      "Receive ESG Data from RDP APIs success\n"
     ]
    }
   ],
   "source": [
    "# Request data for ESG Score Full Service\n",
    "try:\n",
    "    response = requests.get(esg_url, headers={'Authorization': 'Bearer {}'.format(auth_obj['access_token'])}, params = payload)\n",
    "except Exception as exp:\n",
    "    print('Caught exception: %s' % str(exp))\n",
    "\n",
    "if response.status_code == 200:  # HTTP Status 'OK'\n",
    "    print('Receive ESG Data from RDP APIs success')\n",
    "    #print(response.json())\n",
    "    esg_object=response.json()\n",
    "else:\n",
    "    print('RDP APIs: ESG data request failure: %s %s' % (response.status_code, response.reason))\n",
    "    print('Text: %s' % (response.text))"
   ]
  },
  {
   "cell_type": "markdown",
   "id": "9a0d8469-ccae-4950-afb4-0fd13c4e59ef",
   "metadata": {},
   "source": [
    "Once we receive ESG Data from RDP, we can convert the data from the JSON object to a Pandas Dataframe by the following steps:\n",
    "1. Gets the data and column name from JSON object and then re-constructs it as a new map object. \n",
    "2. Converts the JSON's data field to the numpy array.\n",
    "3. Create a new Pandas Dataframe from the numpy data array and headers map."
   ]
  },
  {
   "cell_type": "code",
   "execution_count": 8,
   "id": "62897ad2-c088-4c26-b3d8-00c8eb3d7f9f",
   "metadata": {},
   "outputs": [],
   "source": [
    "headers=esg_object['headers']\n",
    "#Get column headers/titles using lambda\n",
    "titles=map(lambda header:header['title'], headers)\n",
    "        \n",
    "dataArray=np.array(esg_object['data'])\n",
    "df=pd.DataFrame(data=dataArray,columns=titles)"
   ]
  },
  {
   "cell_type": "code",
   "execution_count": 9,
   "id": "05272c5f-060e-4f78-8ffa-6aebc3cedaa7",
   "metadata": {},
   "outputs": [
    {
     "data": {
      "text/html": [
       "<div>\n",
       "<style scoped>\n",
       "    .dataframe tbody tr th:only-of-type {\n",
       "        vertical-align: middle;\n",
       "    }\n",
       "\n",
       "    .dataframe tbody tr th {\n",
       "        vertical-align: top;\n",
       "    }\n",
       "\n",
       "    .dataframe thead th {\n",
       "        text-align: right;\n",
       "    }\n",
       "</style>\n",
       "<table border=\"1\" class=\"dataframe\">\n",
       "  <thead>\n",
       "    <tr style=\"text-align: right;\">\n",
       "      <th></th>\n",
       "      <th>Instrument</th>\n",
       "      <th>Period End Date</th>\n",
       "      <th>ESG Score</th>\n",
       "      <th>ESG Combined Score</th>\n",
       "      <th>ESG Controversies Score</th>\n",
       "      <th>Social Pillar Score</th>\n",
       "      <th>Governance Pillar Score</th>\n",
       "      <th>Environment Pillar Score</th>\n",
       "      <th>Resource Use Score</th>\n",
       "      <th>Emissions Score</th>\n",
       "      <th>...</th>\n",
       "      <th>Environmental Innovation Score Grade</th>\n",
       "      <th>Workforce Score Grade</th>\n",
       "      <th>Human Rights Score Grade</th>\n",
       "      <th>Community Score Grade</th>\n",
       "      <th>Product Responsibility Score Grade</th>\n",
       "      <th>Management Score Grade</th>\n",
       "      <th>Shareholders Score Grade</th>\n",
       "      <th>CSR Strategy Score Grade</th>\n",
       "      <th>ESG Reporting Scope</th>\n",
       "      <th>ESG Period Last Update Date</th>\n",
       "    </tr>\n",
       "  </thead>\n",
       "  <tbody>\n",
       "    <tr>\n",
       "      <th>0</th>\n",
       "      <td>TSLA.O</td>\n",
       "      <td>2019-12-31</td>\n",
       "      <td>58.144908</td>\n",
       "      <td>32.121235</td>\n",
       "      <td>6.097561</td>\n",
       "      <td>45.885966</td>\n",
       "      <td>64.566102</td>\n",
       "      <td>68.492847</td>\n",
       "      <td>68.71345</td>\n",
       "      <td>44.476744</td>\n",
       "      <td>...</td>\n",
       "      <td>A-</td>\n",
       "      <td>B-</td>\n",
       "      <td>D+</td>\n",
       "      <td>A-</td>\n",
       "      <td>C+</td>\n",
       "      <td>B+</td>\n",
       "      <td>B-</td>\n",
       "      <td>B</td>\n",
       "      <td>100</td>\n",
       "      <td>2021-08-21T00:00:00</td>\n",
       "    </tr>\n",
       "    <tr>\n",
       "      <th>1</th>\n",
       "      <td>TSLA.O</td>\n",
       "      <td>2018-12-31</td>\n",
       "      <td>50.605134</td>\n",
       "      <td>27.575294</td>\n",
       "      <td>4.545455</td>\n",
       "      <td>43.129997</td>\n",
       "      <td>29.555476</td>\n",
       "      <td>74.747218</td>\n",
       "      <td>73.701299</td>\n",
       "      <td>46.688742</td>\n",
       "      <td>...</td>\n",
       "      <td>A+</td>\n",
       "      <td>C-</td>\n",
       "      <td>D+</td>\n",
       "      <td>A-</td>\n",
       "      <td>B-</td>\n",
       "      <td>C-</td>\n",
       "      <td>D+</td>\n",
       "      <td>C+</td>\n",
       "      <td>100</td>\n",
       "      <td>2020-11-06T00:00:00</td>\n",
       "    </tr>\n",
       "    <tr>\n",
       "      <th>2</th>\n",
       "      <td>TSLA.O</td>\n",
       "      <td>2017-12-31</td>\n",
       "      <td>38.619319</td>\n",
       "      <td>30.895025</td>\n",
       "      <td>23.170732</td>\n",
       "      <td>30.127429</td>\n",
       "      <td>28.405218</td>\n",
       "      <td>56.260383</td>\n",
       "      <td>18.560606</td>\n",
       "      <td>30.859375</td>\n",
       "      <td>...</td>\n",
       "      <td>A</td>\n",
       "      <td>D</td>\n",
       "      <td>C-</td>\n",
       "      <td>C+</td>\n",
       "      <td>C</td>\n",
       "      <td>C-</td>\n",
       "      <td>C-</td>\n",
       "      <td>D+</td>\n",
       "      <td>None</td>\n",
       "      <td>2020-09-18T00:00:00</td>\n",
       "    </tr>\n",
       "    <tr>\n",
       "      <th>3</th>\n",
       "      <td>TSLA.O</td>\n",
       "      <td>2016-12-31</td>\n",
       "      <td>32.825172</td>\n",
       "      <td>28.131336</td>\n",
       "      <td>23.4375</td>\n",
       "      <td>23.480904</td>\n",
       "      <td>39.285749</td>\n",
       "      <td>39.594166</td>\n",
       "      <td>12.719298</td>\n",
       "      <td>25.229358</td>\n",
       "      <td>...</td>\n",
       "      <td>B</td>\n",
       "      <td>C-</td>\n",
       "      <td>D-</td>\n",
       "      <td>C+</td>\n",
       "      <td>C</td>\n",
       "      <td>C+</td>\n",
       "      <td>C</td>\n",
       "      <td>D+</td>\n",
       "      <td>None</td>\n",
       "      <td>2020-09-18T00:00:00</td>\n",
       "    </tr>\n",
       "    <tr>\n",
       "      <th>4</th>\n",
       "      <td>TSLA.O</td>\n",
       "      <td>2015-12-31</td>\n",
       "      <td>28.063124</td>\n",
       "      <td>28.063124</td>\n",
       "      <td>100</td>\n",
       "      <td>22.770368</td>\n",
       "      <td>24.73595</td>\n",
       "      <td>36.887599</td>\n",
       "      <td>10.39604</td>\n",
       "      <td>20.103093</td>\n",
       "      <td>...</td>\n",
       "      <td>B</td>\n",
       "      <td>D+</td>\n",
       "      <td>D-</td>\n",
       "      <td>B-</td>\n",
       "      <td>C</td>\n",
       "      <td>D+</td>\n",
       "      <td>C+</td>\n",
       "      <td>D+</td>\n",
       "      <td>None</td>\n",
       "      <td>2020-09-18T00:00:00</td>\n",
       "    </tr>\n",
       "  </tbody>\n",
       "</table>\n",
       "<p>5 rows × 36 columns</p>\n",
       "</div>"
      ],
      "text/plain": [
       "  Instrument Period End Date  ESG Score ESG Combined Score  \\\n",
       "0     TSLA.O      2019-12-31  58.144908          32.121235   \n",
       "1     TSLA.O      2018-12-31  50.605134          27.575294   \n",
       "2     TSLA.O      2017-12-31  38.619319          30.895025   \n",
       "3     TSLA.O      2016-12-31  32.825172          28.131336   \n",
       "4     TSLA.O      2015-12-31  28.063124          28.063124   \n",
       "\n",
       "  ESG Controversies Score Social Pillar Score Governance Pillar Score  \\\n",
       "0                6.097561           45.885966               64.566102   \n",
       "1                4.545455           43.129997               29.555476   \n",
       "2               23.170732           30.127429               28.405218   \n",
       "3                 23.4375           23.480904               39.285749   \n",
       "4                     100           22.770368                24.73595   \n",
       "\n",
       "  Environment Pillar Score Resource Use Score Emissions Score  ...  \\\n",
       "0                68.492847           68.71345       44.476744  ...   \n",
       "1                74.747218          73.701299       46.688742  ...   \n",
       "2                56.260383          18.560606       30.859375  ...   \n",
       "3                39.594166          12.719298       25.229358  ...   \n",
       "4                36.887599           10.39604       20.103093  ...   \n",
       "\n",
       "  Environmental Innovation Score Grade Workforce Score Grade  \\\n",
       "0                                   A-                    B-   \n",
       "1                                   A+                    C-   \n",
       "2                                    A                     D   \n",
       "3                                    B                    C-   \n",
       "4                                    B                    D+   \n",
       "\n",
       "  Human Rights Score Grade Community Score Grade  \\\n",
       "0                       D+                    A-   \n",
       "1                       D+                    A-   \n",
       "2                       C-                    C+   \n",
       "3                       D-                    C+   \n",
       "4                       D-                    B-   \n",
       "\n",
       "  Product Responsibility Score Grade Management Score Grade  \\\n",
       "0                                 C+                     B+   \n",
       "1                                 B-                     C-   \n",
       "2                                  C                     C-   \n",
       "3                                  C                     C+   \n",
       "4                                  C                     D+   \n",
       "\n",
       "  Shareholders Score Grade CSR Strategy Score Grade ESG Reporting Scope  \\\n",
       "0                       B-                        B                 100   \n",
       "1                       D+                       C+                 100   \n",
       "2                       C-                       D+                None   \n",
       "3                        C                       D+                None   \n",
       "4                       C+                       D+                None   \n",
       "\n",
       "  ESG Period Last Update Date  \n",
       "0         2021-08-21T00:00:00  \n",
       "1         2020-11-06T00:00:00  \n",
       "2         2020-09-18T00:00:00  \n",
       "3         2020-09-18T00:00:00  \n",
       "4         2020-09-18T00:00:00  \n",
       "\n",
       "[5 rows x 36 columns]"
      ]
     },
     "execution_count": 9,
     "metadata": {},
     "output_type": "execute_result"
    }
   ],
   "source": [
    "df.head()"
   ]
  },
  {
   "cell_type": "markdown",
   "id": "3276bde5-4833-497c-84a9-e6e404b3a8c5",
   "metadata": {
    "tags": []
   },
   "source": [
    "## Plotting Graph\n",
    "\n",
    "Then we can plot a graph of the ESG Dataframe object using [matplotlib library](https://matplotlib.org/). This library is also available in jupyter/scipy-notebook image too.\n",
    "\n",
    "The ESG Data from RDP contains a lot of information, so we will create a new Dataframe object from the original Dataframe to compare only *ESG Score*, *ESG Combined Score*, and *ESG Controversies Score* fields."
   ]
  },
  {
   "cell_type": "code",
   "execution_count": 10,
   "id": "c4409aef-e0ef-44ed-ac5b-427fef1d3b15",
   "metadata": {},
   "outputs": [],
   "source": [
    "# Import matplotlib\n",
    "from matplotlib import pyplot as plt"
   ]
  },
  {
   "cell_type": "code",
   "execution_count": 11,
   "id": "ca6829ce-a817-4d08-b124-432d8393e261",
   "metadata": {},
   "outputs": [
    {
     "data": {
      "text/html": [
       "<div>\n",
       "<style scoped>\n",
       "    .dataframe tbody tr th:only-of-type {\n",
       "        vertical-align: middle;\n",
       "    }\n",
       "\n",
       "    .dataframe tbody tr th {\n",
       "        vertical-align: top;\n",
       "    }\n",
       "\n",
       "    .dataframe thead th {\n",
       "        text-align: right;\n",
       "    }\n",
       "</style>\n",
       "<table border=\"1\" class=\"dataframe\">\n",
       "  <thead>\n",
       "    <tr style=\"text-align: right;\">\n",
       "      <th></th>\n",
       "      <th>Instrument</th>\n",
       "      <th>Period End Date</th>\n",
       "      <th>ESG Score</th>\n",
       "      <th>ESG Combined Score</th>\n",
       "      <th>ESG Controversies Score</th>\n",
       "    </tr>\n",
       "  </thead>\n",
       "  <tbody>\n",
       "    <tr>\n",
       "      <th>0</th>\n",
       "      <td>TSLA.O</td>\n",
       "      <td>2019-12-31</td>\n",
       "      <td>58.144908</td>\n",
       "      <td>32.121235</td>\n",
       "      <td>6.097561</td>\n",
       "    </tr>\n",
       "    <tr>\n",
       "      <th>1</th>\n",
       "      <td>TSLA.O</td>\n",
       "      <td>2018-12-31</td>\n",
       "      <td>50.605134</td>\n",
       "      <td>27.575294</td>\n",
       "      <td>4.545455</td>\n",
       "    </tr>\n",
       "    <tr>\n",
       "      <th>2</th>\n",
       "      <td>TSLA.O</td>\n",
       "      <td>2017-12-31</td>\n",
       "      <td>38.619319</td>\n",
       "      <td>30.895025</td>\n",
       "      <td>23.170732</td>\n",
       "    </tr>\n",
       "    <tr>\n",
       "      <th>3</th>\n",
       "      <td>TSLA.O</td>\n",
       "      <td>2016-12-31</td>\n",
       "      <td>32.825172</td>\n",
       "      <td>28.131336</td>\n",
       "      <td>23.4375</td>\n",
       "    </tr>\n",
       "    <tr>\n",
       "      <th>4</th>\n",
       "      <td>TSLA.O</td>\n",
       "      <td>2015-12-31</td>\n",
       "      <td>28.063124</td>\n",
       "      <td>28.063124</td>\n",
       "      <td>100</td>\n",
       "    </tr>\n",
       "  </tbody>\n",
       "</table>\n",
       "</div>"
      ],
      "text/plain": [
       "  Instrument Period End Date  ESG Score ESG Combined Score  \\\n",
       "0     TSLA.O      2019-12-31  58.144908          32.121235   \n",
       "1     TSLA.O      2018-12-31  50.605134          27.575294   \n",
       "2     TSLA.O      2017-12-31  38.619319          30.895025   \n",
       "3     TSLA.O      2016-12-31  32.825172          28.131336   \n",
       "4     TSLA.O      2015-12-31  28.063124          28.063124   \n",
       "\n",
       "  ESG Controversies Score  \n",
       "0                6.097561  \n",
       "1                4.545455  \n",
       "2               23.170732  \n",
       "3                 23.4375  \n",
       "4                     100  "
      ]
     },
     "execution_count": 11,
     "metadata": {},
     "output_type": "execute_result"
    }
   ],
   "source": [
    "df_plot=pd.DataFrame(df,columns=['Instrument','Period End Date','ESG Score','ESG Combined Score','ESG Controversies Score'])\n",
    "df_plot.head()"
   ]
  },
  {
   "cell_type": "markdown",
   "id": "7914e867-b8bc-4869-834a-ddb8fe252498",
   "metadata": {},
   "source": [
    "The data for the Y-axis is the *Period End Date* field and the X-axis is the ESG scores fields. We want to display only the year (eg \"2017\", \"2016\") therefore we reformat the data in the \"Period End Date\" column using the codes below."
   ]
  },
  {
   "cell_type": "code",
   "execution_count": 12,
   "id": "26a49e9c-574b-4d44-9cf9-ff2732cd3783",
   "metadata": {},
   "outputs": [
    {
     "data": {
      "text/html": [
       "<div>\n",
       "<style scoped>\n",
       "    .dataframe tbody tr th:only-of-type {\n",
       "        vertical-align: middle;\n",
       "    }\n",
       "\n",
       "    .dataframe tbody tr th {\n",
       "        vertical-align: top;\n",
       "    }\n",
       "\n",
       "    .dataframe thead th {\n",
       "        text-align: right;\n",
       "    }\n",
       "</style>\n",
       "<table border=\"1\" class=\"dataframe\">\n",
       "  <thead>\n",
       "    <tr style=\"text-align: right;\">\n",
       "      <th></th>\n",
       "      <th>Instrument</th>\n",
       "      <th>Period End Date</th>\n",
       "      <th>ESG Score</th>\n",
       "      <th>ESG Combined Score</th>\n",
       "      <th>ESG Controversies Score</th>\n",
       "    </tr>\n",
       "  </thead>\n",
       "  <tbody>\n",
       "    <tr>\n",
       "      <th>0</th>\n",
       "      <td>TSLA.O</td>\n",
       "      <td>2019</td>\n",
       "      <td>58.144908</td>\n",
       "      <td>32.121235</td>\n",
       "      <td>6.097561</td>\n",
       "    </tr>\n",
       "    <tr>\n",
       "      <th>1</th>\n",
       "      <td>TSLA.O</td>\n",
       "      <td>2018</td>\n",
       "      <td>50.605134</td>\n",
       "      <td>27.575294</td>\n",
       "      <td>4.545455</td>\n",
       "    </tr>\n",
       "  </tbody>\n",
       "</table>\n",
       "</div>"
      ],
      "text/plain": [
       "  Instrument Period End Date  ESG Score ESG Combined Score  \\\n",
       "0     TSLA.O            2019  58.144908          32.121235   \n",
       "1     TSLA.O            2018  50.605134          27.575294   \n",
       "\n",
       "  ESG Controversies Score  \n",
       "0                6.097561  \n",
       "1                4.545455  "
      ]
     },
     "execution_count": 12,
     "metadata": {},
     "output_type": "execute_result"
    }
   ],
   "source": [
    "df_plot['Period End Date']= df_plot['Period End Date'].str.split('-').str[0]\n",
    "df_plot.head(2)"
   ]
  },
  {
   "cell_type": "markdown",
   "id": "bb17da07-a989-4427-9f10-46cd2dbdff4c",
   "metadata": {},
   "source": [
    "Then sort data as ascending order."
   ]
  },
  {
   "cell_type": "code",
   "execution_count": 13,
   "id": "99462e6b-d783-4860-b105-e33d44ddb884",
   "metadata": {},
   "outputs": [],
   "source": [
    "df_plot.sort_values('Period End Date',ascending=True,inplace=True)"
   ]
  },
  {
   "cell_type": "code",
   "execution_count": 14,
   "id": "c1689a42-bc38-4290-bc49-c1737d290bdc",
   "metadata": {},
   "outputs": [
    {
     "data": {
      "image/png": "[encoded data removed]",
      "text/plain": [
       "<Figure size 1008x504 with 1 Axes>"
      ]
     },
     "metadata": {
      "needs_background": "light"
     },
     "output_type": "display_data"
    }
   ],
   "source": [
    "# Plotting a Graph\n",
    "\n",
    "fig = plt.figure()\n",
    "\n",
    "plt.ticklabel_format(style = 'plain')\n",
    "plt.title('%s ESG Data' % (universe), color='black',fontsize='x-large')\n",
    "ax = fig.gca()\n",
    "\n",
    "df_plot.plot(kind='line', ax = fig.gca(),x='Period End Date', y=['ESG Score','ESG Combined Score','ESG Controversies Score'],figsize=(14,7) )\n",
    "plt.show()"
   ]
  },
  {
   "cell_type": "markdown",
   "id": "e83a0f48-94ed-4cfe-843d-7b16efb4b3f8",
   "metadata": {},
   "source": [
    "## Conclusion\n",
    "\n",
    "The jupyter/scipy-notebook image provides Jupyter Server with a handful of libraries that is enough for building a financial, data science notebook application. You do not need to set up Anaconda, a virtual environment, and install all dependencies manually anymore."
   ]
  },
  {
   "cell_type": "markdown",
   "id": "92a2e8e2-5382-4423-81ce-fa45335db54c",
   "metadata": {},
   "source": [
    "## <a id=\"references\"></a>References\n",
    "\n",
    "You can find more details regarding the Refinitiv Data Platform APIs, Jupyter Docker Stacks, and related technologies for this notebook from the following resources:\n",
    "* [Refinitiv Data Platform APIs page](https://developers.refinitiv.com/en/api-catalog/refinitiv-data-platform/refinitiv-data-platform-apis) on the [Refinitiv Developer Community](https://developers.refinitiv.com/) website.\n",
    "* [Refinitiv Data Platform APIs Playground page](https://api.refinitiv.com).\n",
    "* [Refinitiv Data Platform APIs: Introduction to the Request-Response API](https://developers.refinitiv.com/en/api-catalog/refinitiv-data-platform/refinitiv-data-platform-apis/tutorials#introduction-to-the-request-response-api).\n",
    "* [Refinitiv Data Platform APIs: Authorization - All about tokens](https://developers.refinitiv.com/en/api-catalog/refinitiv-data-platform/refinitiv-data-platform-apis/tutorials#authorization-all-about-tokens).\n",
    "* [Jupyter Dokcer Stacks page](https://jupyter-docker-stacks.readthedocs.io/en/latest/index.html)\n",
    "* [Jupyter Dokcer Stack on DockerHub](https://hub.docker.com/u/jupyter) website\n",
    "\n",
    "For any questions related to RRefinitiv Data Platform APIs, please use the following forum on the [the Developers Community Q&A page](https://community.developers.refinitiv.com/).\n",
    "- [RDP APIs Forum](https://community.developers.refinitiv.com/spaces/231/index.html)."
   ]
  },
  {
   "cell_type": "code",
   "execution_count": null,
   "id": "c193d9f8-298d-4aa8-bd70-b79e1f0ed2f6",
   "metadata": {},
   "outputs": [],
   "source": []
  }
 ],
 "metadata": {
  "kernelspec": {
   "display_name": "Python 3 (ipykernel)",
   "language": "python",
   "name": "python3"
  },
  "language_info": {
   "codemirror_mode": {
    "name": "ipython",
    "version": 3
   },
   "file_extension": ".py",
   "mimetype": "text/x-python",
   "name": "python",
   "nbconvert_exporter": "python",
   "pygments_lexer": "ipython3",
   "version": "3.9.6"
  }
 },
 "nbformat": 4,
 "nbformat_minor": 5
}
